{
 "cells": [
  {
   "cell_type": "code",
   "execution_count": null,
   "metadata": {},
   "outputs": [],
   "source": [
    "#pip install git+https://github.com/dreamquark-ai/tabnet"
   ]
  },
  {
   "cell_type": "code",
   "execution_count": null,
   "metadata": {},
   "outputs": [],
   "source": [
    "#!pip install pytorch-tabnet"
   ]
  },
  {
   "cell_type": "code",
   "execution_count": null,
   "metadata": {},
   "outputs": [],
   "source": [
    "import pandas as pd\n",
    "import datetime\n",
    "from datetime import datetime as dt\n",
    "import numpy as np\n",
    "import matplotlib.pyplot as plt\n",
    "import seaborn as sns\n",
    "df = pd.read_csv('../dataset/dataset.csv', encoding = 'shift_jis')\n",
    "df"
   ]
  },
  {
   "cell_type": "code",
   "execution_count": null,
   "metadata": {},
   "outputs": [],
   "source": [
    "product_code = list(range(1,10+1))\n",
    "store_code = [617,651,833,921,922,934,937,1190,1250,1261,1236,671,672]\n",
    "\n",
    "dataset = [[None]*len(store_code) for _ in range(len(product_code))]\n",
    "\n",
    "for i in range(len(store_code)):\n",
    "    store_df = df[df['ShopC'] == store_code[i]]\n",
    "    for j in range(len(product_code)):\n",
    "            dataset[j][i] = store_df[store_df['ProductC'] == product_code[j]]\n",
    "\n",
    "TEST_DAYS = 30\n",
    "drop_list = ['SalesDate','ShopC','ProductC','SalesCate',\n",
    "            'Year','PreAmo','WindAve','VapAve','CloAve','0Check',]\n",
    "\n",
    "\n",
    "train = []\n",
    "test = []\n",
    "\n",
    "for i in range(len(store_code)):\n",
    "    for j in range(len(product_code)):\n",
    "        train.append((dataset[j][i])[0:-TEST_DAYS].drop(drop_list, axis=1))\n",
    "        test.append((dataset[j][i])[-TEST_DAYS:].drop(drop_list, axis=1))\n",
    "\n",
    "train_data = pd.DataFrame(columns = df.columns.drop(drop_list).values)\n",
    "\n",
    "for i in train:\n",
    "    train_data = pd.concat([train_data, i], axis = 0)\n",
    "\n",
    "\n",
    "from sklearn.model_selection import train_test_split\n",
    "random_state = 0\n",
    "X_train, X_valid, y_train, y_valid = train_test_split(train_data.iloc[:, :-1].values, train_data.iloc[:, [-1]].values, test_size=.3, random_state=random_state)\n",
    "\n",
    "X_train = X_train.astype(np.float64)\n",
    "X_valid = X_valid.astype(np.float64)\n",
    "\n",
    "y_train = y_train.astype(np.int64)\n",
    "y_valid = y_valid.astype(np.int64)\n",
    "\n",
    "# print(X_train.shape, y_train.shape, X_valid.shape, y_valid.shape, X_test.shape, y_test.shape)\n"
   ]
  },
  {
   "cell_type": "code",
   "execution_count": null,
   "metadata": {},
   "outputs": [],
   "source": [
    "from pytorch_tabnet.pretraining import TabNetPretrainer\n",
    "from sklearn.metrics import mean_squared_error\n",
    "import torch\n",
    "\n",
    "SEED = 53\n",
    "\n",
    "unsupervised_model = TabNetPretrainer(n_d=8, n_a=8, n_steps=5, gamma=1.6,\n",
    "                        n_independent=2, n_shared=2,\n",
    "                        seed=SEED, lambda_sparse=1e-3,\n",
    "                        optimizer_fn=torch.optim.Adam,\n",
    "                        optimizer_params=dict(lr=2e-2),\n",
    "                        mask_type=\"entmax\",\n",
    "                        scheduler_params=dict(mode=\"min\",\n",
    "                                                patience=5,\n",
    "                                                min_lr=1e-5,\n",
    "                                                factor=0.9,),\n",
    "                        scheduler_fn=torch.optim.lr_scheduler.ReduceLROnPlateau,\n",
    "                        verbose=5\n",
    "                        )\n",
    "\n",
    "unsupervised_model.fit(\n",
    "    X_train,\n",
    "    eval_set=[X_valid],\n",
    "    max_epochs=100 , patience=30,\n",
    "    batch_size=256, virtual_batch_size=128,\n",
    "    num_workers=0,\n",
    "    drop_last=False,\n",
    "    # pretraining_ratio=0.8,\n",
    ")"
   ]
  },
  {
   "cell_type": "code",
   "execution_count": null,
   "metadata": {},
   "outputs": [],
   "source": [
    "import torch\n",
    "from pytorch_tabnet.tab_model import TabNetRegressor\n",
    "\n",
    "model = TabNetRegressor(n_d=8, n_a=8, n_steps=5, gamma=1.6,\n",
    "                        n_independent=2, n_shared=2,\n",
    "                        seed=SEED, lambda_sparse=1e-3,\n",
    "                        optimizer_fn=torch.optim.Adam,\n",
    "                        optimizer_params=dict(lr=2e-2),\n",
    "                        mask_type=\"entmax\",\n",
    "                        scheduler_params=dict(mode=\"min\",\n",
    "                                                patience=5,\n",
    "                                                min_lr=1e-5,\n",
    "                                                factor=0.9,),\n",
    "                        scheduler_fn=torch.optim.lr_scheduler.ReduceLROnPlateau,\n",
    "                        verbose=5\n",
    "                        )\n",
    "\n",
    "model.fit(\n",
    "  X_train, y_train,\n",
    "  eval_set=[(X_valid, y_valid)],\n",
    "  max_epochs=100,\n",
    "  patience=30,\n",
    "  eval_metric={'rmse', 'mae'}, # 'rmsle', 'mse', 'mae'\n",
    "  from_unsupervised=unsupervised_model\n",
    ")\n",
    "\n"
   ]
  },
  {
   "cell_type": "code",
   "execution_count": null,
   "metadata": {},
   "outputs": [],
   "source": [
    "from sklearn.metrics import mean_squared_error\n",
    "from sklearn.metrics import mean_absolute_error\n",
    "import math\n",
    "\n",
    "rmse_list = []\n",
    "mae_list = []\n",
    "error_list = []\n",
    "max_error_list = []\n",
    "\n",
    "count = 0\n",
    "for data in test:\n",
    "    if len(data) == 30:\n",
    "        test_data = pd.DataFrame(data)\n",
    "        X_test = test_data.iloc[:, :-1].values.astype(np.float64)\n",
    "        y_test = test_data.iloc[:, [-1]].values.astype(np.int64)\n",
    "        rmse_score = math.sqrt(mean_squared_error(model.predict(X_test), y_test))\n",
    "        mae_score = mean_absolute_error(model.predict(X_test), y_test)\n",
    "        rmse_list.append(rmse_score)\n",
    "        mae_list.append(mae_score)\n",
    "        error_list.append(float(mae_score/(sum(y_test)/len(data))*100))\n",
    "        max_error = 0\n",
    "        for index, i in enumerate(model.predict(X_test)):\n",
    "            max_error = max(max_error, abs(i - y_test[index]) / y_test[index] * 100)\n",
    "        max_error_list.append(float(max_error))\n",
    "        print(store_code[count//10], \"-\", product_code[count%10])\n",
    "        plt.figure(figsize=(10, 6), dpi=100)\n",
    "        plt.plot(model.predict(X_test),c='r')\n",
    "        plt.plot(y_test, c='b')\n",
    "        plt.show()\n",
    "\n",
    "        # print(rmse_score,mae_score)\n",
    "    else:\n",
    "        rmse_list.append(\"None\")\n",
    "        mae_list.append(\"None\")\n",
    "        error_list.append(\"None\")\n",
    "        max_error_list.append(\"None\")\n",
    "    count += 1\n",
    "# print(f\"FINAL TEST SCORE: {test_score}\")\n",
    "# print(f\"FINAL TEST SCORE: {test_score}\")\n"
   ]
  },
  {
   "cell_type": "code",
   "execution_count": null,
   "metadata": {},
   "outputs": [],
   "source": [
    "\n",
    "result_df = pd.DataFrame(columns=['ShopC', 'ProductC','RMSE','MAE','ERROR', 'MAX'])\n",
    "count = 0\n",
    "for store in range(len(store_code)):\n",
    "    for product in range(len(product_code)):\n",
    "        result_df = result_df.append({'ShopC': int(store_code[store]), 'ProductC': int(product_code[product]), 'RMSE': rmse_list[count] , 'MAE': mae_list[count], 'ERROR' : error_list[count], 'MAX' : max_error_list[count]}, ignore_index=True)\n",
    "        count += 1\n",
    "result_df.to_csv('../dataset/result.csv', encoding = 'shift_jis',index=None)"
   ]
  }
 ],
 "metadata": {
  "kernelspec": {
   "display_name": "Python 3.9.13 64-bit (microsoft store)",
   "language": "python",
   "name": "python3"
  },
  "language_info": {
   "codemirror_mode": {
    "name": "ipython",
    "version": 3
   },
   "file_extension": ".py",
   "mimetype": "text/x-python",
   "name": "python",
   "nbconvert_exporter": "python",
   "pygments_lexer": "ipython3",
   "version": "3.9.13 (tags/v3.9.13:6de2ca5, May 17 2022, 16:36:42) [MSC v.1929 64 bit (AMD64)]"
  },
  "orig_nbformat": 4,
  "vscode": {
   "interpreter": {
    "hash": "645002f91107cd0a4a3c1edaaec9aae20745b4a9aa82cf82de3d60e2932c3c3c"
   }
  }
 },
 "nbformat": 4,
 "nbformat_minor": 2
}
