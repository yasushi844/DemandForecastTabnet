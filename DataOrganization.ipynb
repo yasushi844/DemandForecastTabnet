{
 "cells": [
  {
   "cell_type": "markdown",
   "metadata": {},
   "source": [
    "データの読み込み"
   ]
  },
  {
   "cell_type": "code",
   "execution_count": null,
   "metadata": {},
   "outputs": [],
   "source": [
    "import pandas as pd\n",
    "import datetime\n",
    "from datetime import datetime as dt\n",
    "df = pd.read_csv('../dataset/data.csv', encoding='shift_jis')\n",
    "\n",
    "target_list = ['ShopC','SalesDate','ProductC','RecAve','SalesVol']\n",
    "target_df = df[target_list]\n",
    "target_df"
   ]
  },
  {
   "attachments": {},
   "cell_type": "markdown",
   "metadata": {},
   "source": [
    "SalesDateをdatetimeに変更し、年・月・日に分解"
   ]
  },
  {
   "cell_type": "code",
   "execution_count": null,
   "metadata": {},
   "outputs": [],
   "source": [
    "\n",
    "date_list = []\n",
    "year_list = []\n",
    "month_list = []\n",
    "day_list = []\n",
    "season_list = []\n",
    "for index, i in enumerate(target_df['SalesDate'].values):\n",
    "    date = str(i)\n",
    "    year = int(date[0:4])\n",
    "    month = int(date[4:6])\n",
    "    day = int(date[6:])\n",
    "\n",
    "    date_list.append(datetime.date(year, month, day))\n",
    "    year_list.append(year)\n",
    "    month_list.append(month)\n",
    "    day_list.append(day)\n",
    "\n",
    "target_df['SalesDate'] = date_list\n",
    "target_df['Year'] = year_list\n",
    "target_df['Month'] = month_list\n",
    "target_df['Day'] = day_list\n",
    "target_df"
   ]
  },
  {
   "attachments": {},
   "cell_type": "markdown",
   "metadata": {},
   "source": [
    "datasetの1次元はProductC\n",
    "\n",
    "[1, 2, 3, 4, 5, 6, 7, 8, 9, 10]\n",
    "\n",
    "datasetの2次元はShopC\n",
    "\n",
    "[617, 651, 833, 921, 922, 934, 937, 1190, 1250, 1261, 1236, 671, 672]\n",
    "\n"
   ]
  },
  {
   "cell_type": "code",
   "execution_count": null,
   "metadata": {},
   "outputs": [],
   "source": [
    "product_code = list(range(1,10+1))\n",
    "store_code = [617,651,833,921,922,934,937,1190,1250,1261,1236,671,672]\n",
    "\n",
    "dataset = [[None]*len(store_code) for _ in range(len(product_code))]\n",
    "\n",
    "for i in range(len(store_code)):\n",
    "    store_df = target_df[target_df['ShopC'] == store_code[i]]\n",
    "    for j in range(len(product_code)):\n",
    "        dataset[j][i] = store_df[store_df['ProductC'] == product_code[j]]"
   ]
  },
  {
   "cell_type": "code",
   "execution_count": null,
   "metadata": {},
   "outputs": [],
   "source": [
    "dataset[0][0]"
   ]
  },
  {
   "cell_type": "markdown",
   "metadata": {},
   "source": [
    "データの参照をしたいため、新しくデータフレームを作成"
   ]
  },
  {
   "cell_type": "code",
   "execution_count": null,
   "metadata": {},
   "outputs": [],
   "source": [
    "# weighted_df = pd.read_csv('../dataset/weighted.csv', encoding='shift_jis')\n",
    "\n",
    "# date_list = []\n",
    "# for i in weighted_df['SalesDate'].values:\n",
    "#     date = str(i)\n",
    "#     date_list.append(datetime.date(int(date[0:4]), int(date[5:7]), int(date[8:])))\n",
    "# weighted_df['SalesDate'] = date_list\n",
    "# weighted_df = weighted_df.set_index('SalesDate')\n",
    "# weighted_df\n"
   ]
  },
  {
   "cell_type": "code",
   "execution_count": null,
   "metadata": {},
   "outputs": [],
   "source": [
    "day_df = pd.read_csv('../dataset/salesdate.csv', encoding='shift_jis')\n",
    "date_list = []\n",
    "for i in day_df['SalesDate'].values:\n",
    "    date = str(i)\n",
    "    date_list.append(datetime.date(int(date[0:4]), int(date[5:7]), int(date[8:])))\n",
    "day_df['SalesDate'] = date_list\n",
    "day_df = day_df.set_index('SalesDate')\n",
    "\n",
    "\n",
    "weather_df = pd.read_csv('../dataset/weather.csv', encoding='shift_jis')\n",
    "date_list = []\n",
    "for i in weather_df['SalesDate'].values:\n",
    "    date = str(i)\n",
    "    date_list.append(datetime.date(int(date[0:4]), int(date[5:7]), int(date[8:])))\n",
    "weather_df['SalesDate'] = date_list\n",
    "weather_df = weather_df.set_index('SalesDate')\n",
    "\n",
    "\n",
    "new_df = pd.concat([day_df, weather_df], axis = 1)\n",
    "new_df"
   ]
  },
  {
   "cell_type": "markdown",
   "metadata": {},
   "source": [
    "データの欠損値を埋める"
   ]
  },
  {
   "cell_type": "code",
   "execution_count": null,
   "metadata": {},
   "outputs": [],
   "source": [
    "import numpy as np\n",
    "indexs = len(target_df) + 1\n",
    "idx = 0\n",
    "for i in range(len(store_code)):\n",
    "    for j in range(len(product_code)):\n",
    "        data = dataset[j][i]\n",
    "        max_value = data['RecAve'].max()\n",
    "        if str(max_value) == \"nan\":\n",
    "            max_value = 0\n",
    "        for k in day_df.index:\n",
    "            if not (k in data['SalesDate'].values):\n",
    "                str_k = str(k)\n",
    "                yaer, month, day = int(str_k[:4]), int(str_k[5:7]), int(str_k[8:])\n",
    "                data.loc[indexs] = [store_code[i], k, product_code[j], max_value, 0, 0, yaer, month, day]\n",
    "                indexs += 1\n",
    "        data = data.drop_duplicates(subset=['SalesDate']).sort_values('SalesDate').set_index('SalesDate')\n",
    "        data = pd.concat([data, new_df], axis = 1).reset_index()\n",
    "        data.index = np.arange(idx, len(data)+idx)\n",
    "        idx += len(data)\n",
    "        dataset[j][i] = data.rename(columns={'index': 'SalesDate'})"
   ]
  },
  {
   "cell_type": "code",
   "execution_count": null,
   "metadata": {},
   "outputs": [],
   "source": [
    "dataset[0][0]"
   ]
  },
  {
   "cell_type": "code",
   "execution_count": null,
   "metadata": {},
   "outputs": [],
   "source": [
    "save_columns = ['SalesDate', 'ShopC', 'ProductC', 'RecAve', 'SalesCate', 'Year', 'Month', 'Day',\n",
    "                'Season', 'WeekDay', 'Holiday', 'TempAve', 'PreAmo', 'WindAve', 'VapAve', 'CloAve']\n",
    "save_data = pd.DataFrame(columns = save_columns)\n",
    "for i in range(len(store_code)):\n",
    "    for j in range(len(product_code)):\n",
    "        save_data = pd.concat([save_data, dataset[j][i]], axis = 0)\n",
    "save_data"
   ]
  },
  {
   "cell_type": "markdown",
   "metadata": {},
   "source": [
    "CSVデータとして保存"
   ]
  },
  {
   "cell_type": "code",
   "execution_count": null,
   "metadata": {},
   "outputs": [],
   "source": [
    "save_data.to_csv('../dataset/dataset.csv', encoding = 'shift_jis',index=None)"
   ]
  }
 ],
 "metadata": {
  "kernelspec": {
   "display_name": "Python 3.9.13 64-bit (microsoft store)",
   "language": "python",
   "name": "python3"
  },
  "language_info": {
   "codemirror_mode": {
    "name": "ipython",
    "version": 3
   },
   "file_extension": ".py",
   "mimetype": "text/x-python",
   "name": "python",
   "nbconvert_exporter": "python",
   "pygments_lexer": "ipython3",
   "version": "3.9.13 (tags/v3.9.13:6de2ca5, May 17 2022, 16:36:42) [MSC v.1929 64 bit (AMD64)]"
  },
  "orig_nbformat": 4,
  "vscode": {
   "interpreter": {
    "hash": "645002f91107cd0a4a3c1edaaec9aae20745b4a9aa82cf82de3d60e2932c3c3c"
   }
  }
 },
 "nbformat": 4,
 "nbformat_minor": 2
}
