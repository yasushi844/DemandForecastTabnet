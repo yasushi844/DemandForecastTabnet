{
  "cells": [
    {
      "cell_type": "markdown",
      "metadata": {},
      "source": [
        "データの読み込み"
      ]
    },
    {
      "cell_type": "code",
      "execution_count": null,
      "metadata": {
        "colab": {
          "base_uri": "https://localhost:8080/",
          "height": 424
        },
        "id": "MLdd8idsZxQC",
        "outputId": "c01a37c5-d493-4353-ecea-c66a6a49c1ec"
      },
      "outputs": [],
      "source": [
        "import pandas as pd\n",
        "import datetime\n",
        "from datetime import datetime as dt\n",
        "target_df = pd.read_csv('../dataset/dataset.csv', encoding = 'shift_jis')"
      ]
    },
    {
      "cell_type": "markdown",
      "metadata": {
        "id": "Y763v18bpj7k"
      },
      "source": [
        "datasetの1次元は商品コード\n",
        "\n",
        "[1, 2, 3, 4, 5, 6, 7, 8, 9, 10]\n",
        "\n",
        "datasetの2次元は店舗コード\n",
        "\n",
        "[617, 651, 833, 921, 922, 934, 937, 1190, 1250, 1261, 1236, 671, 672]\n",
        "\n"
      ]
    },
    {
      "cell_type": "code",
      "execution_count": null,
      "metadata": {
        "colab": {
          "base_uri": "https://localhost:8080/",
          "height": 455
        },
        "id": "_OZAMw5LisET",
        "outputId": "b3350c0a-fd88-4f6c-85d7-b8702c247d76"
      },
      "outputs": [],
      "source": [
        "product_code = list(range(1,10+1))\n",
        "store_code = [617,651,833,921,922,934,937,1190,1250,1261,1236,671,672]\n",
        "\n",
        "dataset = [[None]*len(store_code) for _ in range(len(product_code))]\n",
        "\n",
        "for i in range(len(store_code)):\n",
        "    store_df = target_df[target_df['ShopC'] == store_code[i]]\n",
        "    for j in range(len(product_code)):\n",
        "        data = store_df[store_df['ProductC'] == product_code[j]]\n",
        "        dataset[j][i] = data.set_index('SalesDate')"
      ]
    },
    {
      "cell_type": "markdown",
      "metadata": {},
      "source": [
        "店舗・商品ごとの販売数量をプロット"
      ]
    },
    {
      "cell_type": "code",
      "execution_count": null,
      "metadata": {
        "colab": {
          "base_uri": "https://localhost:8080/",
          "height": 1000
        },
        "id": "mVHyC5wdrR3-",
        "outputId": "5422cdd9-1a76-47bd-986a-18a5aab1c38a"
      },
      "outputs": [],
      "source": [
        "# import matplotlib.pyplot as plt\n",
        "\n",
        "# for i in range(len(store_code)):\n",
        "#   for j in range(len(product_code)):\n",
        "#     fig, ax = plt.subplots()\n",
        "#     name = str(store_code[i]) + \"-\" + str(product_code[j])\n",
        "#     plt.title(name)\n",
        "#     ax.plot(dataset[j][i].index, (dataset[j][i])['SalesVol'])\n",
        "# plt.show()"
      ]
    },
    {
      "cell_type": "markdown",
      "metadata": {},
      "source": [
        "各変数の相関を求める"
      ]
    },
    {
      "cell_type": "code",
      "execution_count": null,
      "metadata": {},
      "outputs": [],
      "source": [
        "import seaborn as sns\n",
        "drop_list = ['ShopC','ProductC']\n",
        "data = (target_df).drop(drop_list, axis=1)\n",
        "df_corr = (data).corr()\n",
        "print(df_corr)"
      ]
    }
  ],
  "metadata": {
    "colab": {
      "collapsed_sections": [],
      "provenance": []
    },
    "kernelspec": {
      "display_name": "Python 3.9.13 64-bit (microsoft store)",
      "language": "python",
      "name": "python3"
    },
    "language_info": {
      "codemirror_mode": {
        "name": "ipython",
        "version": 3
      },
      "file_extension": ".py",
      "mimetype": "text/x-python",
      "name": "python",
      "nbconvert_exporter": "python",
      "pygments_lexer": "ipython3",
      "version": "3.9.13 (tags/v3.9.13:6de2ca5, May 17 2022, 16:36:42) [MSC v.1929 64 bit (AMD64)]"
    },
    "vscode": {
      "interpreter": {
        "hash": "645002f91107cd0a4a3c1edaaec9aae20745b4a9aa82cf82de3d60e2932c3c3c"
      }
    }
  },
  "nbformat": 4,
  "nbformat_minor": 0
}
